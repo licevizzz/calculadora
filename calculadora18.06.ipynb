{
 "cells": [
  {
   "cell_type": "code",
   "execution_count": 2,
   "metadata": {},
   "outputs": [
    {
     "name": "stdout",
     "output_type": "stream",
     "text": [
      "Número  1\n",
      "Número  2\n",
      "Número  3\n",
      "Número  4\n",
      "Número  5\n"
     ]
    }
   ],
   "source": [
    "def funcaoLeitura():\n",
    "    for num in [1,2,3,4,5]:\n",
    "        print('Número ', num)\n",
    "\n",
    "funcaoLeitura()"
   ]
  },
  {
   "cell_type": "code",
   "execution_count": 2,
   "metadata": {},
   "outputs": [
    {
     "name": "stdout",
     "output_type": "stream",
     "text": [
      "Número  0\n",
      "Número  1\n",
      "Número  2\n",
      "Número  3\n",
      "Número  4\n"
     ]
    }
   ],
   "source": [
    "def funcaoLeitura():\n",
    "    for num in range (5):\n",
    "        print('Número ', num)\n",
    "\n",
    "funcaoLeitura()"
   ]
  },
  {
   "cell_type": "code",
   "execution_count": 4,
   "metadata": {},
   "outputs": [],
   "source": [
    "#Função para somar 2 números\n",
    "def addNum(n1, n2):\n",
    "    print(\"O primeiro número é \", n1)\n",
    "    print(\"O segundo número é \", n2)\n",
    "    print(\"A soma dos números é \", n1+n2)\n"
   ]
  },
  {
   "cell_type": "code",
   "execution_count": 6,
   "metadata": {},
   "outputs": [
    {
     "name": "stdout",
     "output_type": "stream",
     "text": [
      "O primeiro número é  1\n",
      "O segundo número é  5\n",
      "A soma dos números é  6\n",
      "O primeiro número é  4\n",
      "O segundo número é  3\n",
      "A soma dos números é  7\n"
     ]
    }
   ],
   "source": [
    "addNum(1,5)\n",
    "addNum(4,3)\n"
   ]
  },
  {
   "cell_type": "code",
   "execution_count": 12,
   "metadata": {},
   "outputs": [],
   "source": [
    "varGlobal = 10 #essa é uma variável global\n",
    "def multiplicacao(num1, num2):\n",
    "    varLocal = num1 * num2 #essa é uma variável local\n",
    "    print(\"Variável da função Multiplica: \", varLocal)\n",
    "    #print(varLocal)"
   ]
  },
  {
   "cell_type": "code",
   "execution_count": 13,
   "metadata": {},
   "outputs": [
    {
     "name": "stdout",
     "output_type": "stream",
     "text": [
      "Variável da função Multiplica:  25\n"
     ]
    }
   ],
   "source": [
    "multiplicacao(5,5)"
   ]
  },
  {
   "cell_type": "code",
   "execution_count": 14,
   "metadata": {},
   "outputs": [],
   "source": [
    "varGlobal = 10 #essa é uma variável global\n",
    "def multiplicacao(num1, num2):\n",
    "    #apesar do mesmo nome, é uma variável local\n",
    "    varGlobal = num1 * num2 #essa é uma variável local\n",
    "    print(\"Variável da função Multiplica: \", varGlobal)\n",
    "    #print(varLocal)"
   ]
  },
  {
   "cell_type": "code",
   "execution_count": 15,
   "metadata": {},
   "outputs": [
    {
     "name": "stdout",
     "output_type": "stream",
     "text": [
      "Variável da função Multiplica:  40\n",
      "10\n"
     ]
    }
   ],
   "source": [
    "multiplicacao(5,8)\n",
    "print(varGlobal)"
   ]
  },
  {
   "cell_type": "code",
   "execution_count": 16,
   "metadata": {},
   "outputs": [],
   "source": [
    "#Quando não sabemos a quantidadse de parâmetros basta\n",
    "def variosParametros(*parametros):\n",
    "    for n, item in enumerate(parametros):\n",
    "        print(\"Parametro\", n, item)\n",
    "    return\n",
    "    \n",
    "\n"
   ]
  },
  {
   "cell_type": "code",
   "execution_count": 18,
   "metadata": {},
   "outputs": [
    {
     "name": "stdout",
     "output_type": "stream",
     "text": [
      "Parametro 0 luquinhas\n",
      "Parametro 1 Madá\n",
      "Parametro 2 Giggio\n"
     ]
    }
   ],
   "source": [
    "variosParametros(\"luquinhas\", \"Madá\", \"Giggio\")"
   ]
  },
  {
   "cell_type": "code",
   "execution_count": 3,
   "metadata": {},
   "outputs": [],
   "source": [
    "#Calculadora\n",
    "\n",
    "def soma(n1, n2):\n",
    "    return n1+n2\n",
    "\n",
    "def subtrai(n1, n2):\n",
    "    return n1-n2\n",
    "\n",
    "def multiplica(n1, n2):\n",
    "    return n1*n2\n",
    "\n",
    "def divide(n1, n2):\n",
    "    return n1/n2\n"
   ]
  },
  {
   "cell_type": "code",
   "execution_count": 4,
   "metadata": {},
   "outputs": [
    {
     "name": "stdout",
     "output_type": "stream",
     "text": [
      "+==================+\n",
      "| MENU DE OPERAÇÕES|\n",
      "| 1 - somar        |\n",
      "| 2 - subtrair     |\n",
      "| 3 - multiplicar  |\n",
      "| 4 - dividir      |\n",
      "| 0 - sair         |\n",
      "+==================|\n",
      "O resultado da subtração é  3\n",
      "+==================+\n",
      "| MENU DE OPERAÇÕES|\n",
      "| 1 - somar        |\n",
      "| 2 - subtrair     |\n",
      "| 3 - multiplicar  |\n",
      "| 4 - dividir      |\n",
      "| 0 - sair         |\n",
      "+==================|\n"
     ]
    }
   ],
   "source": [
    "while True:\n",
    "    print(\"+==================+\")\n",
    "    print(\"| MENU DE OPERAÇÕES|\")\n",
    "    print(\"| 1 - somar        |\")\n",
    "    print(\"| 2 - subtrair     |\")\n",
    "    print(\"| 3 - multiplicar  |\")\n",
    "    print(\"| 4 - dividir      |\")\n",
    "    print(\"| 0 - sair         |\")\n",
    "    print(\"+==================|\")\n",
    "\n",
    "    op = int(input())\n",
    "    if op==0:\n",
    "        break\n",
    "    \n",
    "    n1 = int(input(\"Primeiro número: \"))\n",
    "    n2 = int(input(\"Segundo número: \"))\n",
    "\n",
    "    if op==1:\n",
    "        print(\"O resultado da soma é: \", soma(n1, n2))\n",
    "    elif op==2:\n",
    "        print(\"O resultado da subtração é \", subtrai(n1, n2))\n",
    "    elif op==3:\n",
    "        print(\"O resultado da multiplicação é \", multiplica(n1, n2))\n",
    "    elif op==4:\n",
    "        print(\"O resultado da divisãp é \", divide(n1, n2))\n",
    "    else:\n",
    "        print(\"Digite uma opção válida\")\n",
    "    \n",
    "\n"
   ]
  }
 ],
 "metadata": {
  "kernelspec": {
   "display_name": "Python 3",
   "language": "python",
   "name": "python3"
  },
  "language_info": {
   "codemirror_mode": {
    "name": "ipython",
    "version": 3
   },
   "file_extension": ".py",
   "mimetype": "text/x-python",
   "name": "python",
   "nbconvert_exporter": "python",
   "pygments_lexer": "ipython3",
   "version": "3.11.9"
  }
 },
 "nbformat": 4,
 "nbformat_minor": 2
}
